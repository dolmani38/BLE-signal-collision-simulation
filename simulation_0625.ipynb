{
  "nbformat": 4,
  "nbformat_minor": 0,
  "metadata": {
    "colab": {
      "name": "Untitled15.ipynb",
      "provenance": [],
      "authorship_tag": "ABX9TyMv91FnmYFQXf/P4cDUtYHN",
      "include_colab_link": true
    },
    "kernelspec": {
      "name": "python3",
      "display_name": "Python 3"
    },
    "language_info": {
      "name": "python"
    }
  },
  "cells": [
    {
      "cell_type": "markdown",
      "metadata": {
        "id": "view-in-github",
        "colab_type": "text"
      },
      "source": [
        "<a href=\"https://colab.research.google.com/github/dolmani38/BLE-signal-collision-simulation/blob/main/simulation_0625.ipynb\" target=\"_parent\"><img src=\"https://colab.research.google.com/assets/colab-badge.svg\" alt=\"Open In Colab\"/></a>"
      ]
    },
    {
      "cell_type": "markdown",
      "source": [
        "# BLE Signal collision simulation"
      ],
      "metadata": {
        "id": "gTk49pLu441t"
      }
    },
    {
      "cell_type": "markdown",
      "source": [
        "* 2 signal의 충돌 확률을 고려한다.\n",
        "* Signal은 5000ms 간격, 2ms 동안 송출\n",
        "* 2ms 내 3개 channel로 각 1회 총 3회 순차적 송출\n",
        "* 이에 따른 2 signal의 충돌 확률은 2/5000 * (1/1.4)^3 으로 생각 가능\n",
        "* 여기서 1/1.4는 동일 channel이 충돌할 확률 "
      ],
      "metadata": {
        "id": "rM_heCD44-DA"
      }
    },
    {
      "cell_type": "markdown",
      "source": [
        "* 이제 "
      ],
      "metadata": {
        "id": "vP_KLaGk5rfu"
      }
    }
  ]
}