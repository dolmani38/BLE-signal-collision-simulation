{
  "nbformat": 4,
  "nbformat_minor": 0,
  "metadata": {
    "colab": {
      "name": "Untitled15.ipynb",
      "provenance": [],
      "authorship_tag": "ABX9TyNMdVptYO+fq5lFaA6QuYjW",
      "include_colab_link": true
    },
    "kernelspec": {
      "name": "python3",
      "display_name": "Python 3"
    },
    "language_info": {
      "name": "python"
    }
  },
  "cells": [
    {
      "cell_type": "markdown",
      "metadata": {
        "id": "view-in-github",
        "colab_type": "text"
      },
      "source": [
        "<a href=\"https://colab.research.google.com/github/dolmani38/BLE-signal-collision-simulation/blob/main/simulation_0625.ipynb\" target=\"_parent\"><img src=\"https://colab.research.google.com/assets/colab-badge.svg\" alt=\"Open In Colab\"/></a>"
      ]
    },
    {
      "cell_type": "markdown",
      "source": [
        "# BLE Signal collision simulation"
      ],
      "metadata": {
        "id": "gTk49pLu441t"
      }
    },
    {
      "cell_type": "markdown",
      "source": [
        "* 2 signal의 충돌 확률을 고려한다.\n",
        "* Signal은 5000ms 간격, 2ms 동안 송출\n",
        "* 2ms 내 3개 channel로 각 1회 총 3회 순차적 송출\n",
        "* 이에 따른 2 signal의 충돌 확률은 2/5000 * (1/1.4)^3 으로 생각 가능\n",
        "* 여기서 1/1.4는 동일 channel이 충돌할 확률\n",
        "* 2 signal의 충돌 확률을 a 라고 한다면 "
      ],
      "metadata": {
        "id": "rM_heCD44-DA"
      }
    },
    {
      "cell_type": "markdown",
      "source": [
        "* 3 signal의 충돌은 1,2번 충돌, 1,3번 충돌, 2,3번 충돌, 1,2,3 모두 충돌의 경우의 수를 고려 가능\n",
        "* 이상의 경우, 3a + a^2 으로 표현 가능\n",
        "* 여기서 a^2은, 1,2번이 충돌과 여기에 3번이 동시에 충돌될 확률에 해당\n",
        "* 4 Signal의 경우 같은 맥락으로 6a + 2a^2 + a^3 으로 표현 가능"
      ],
      "metadata": {
        "id": "vP_KLaGk5rfu"
      }
    },
    {
      "cell_type": "markdown",
      "source": [
        "* 수식 입력 참고 (https://colab.research.google.com/github/datascienceschool/book/blob/master/ds/02%20mathematics/04.01%20%ED%95%A8%EC%88%98.ipynb)"
      ],
      "metadata": {
        "id": "HhAE3Xjy7k72"
      }
    },
    {
      "cell_type": "markdown",
      "source": [
        "## n Signal collision function"
      ],
      "metadata": {
        "id": "E8lrZsPj7n6W"
      }
    },
    {
      "cell_type": "markdown",
      "source": [
        "2 Signal collision probability\n",
        "\n",
        "* signal_period = sp\n",
        "* signal_duration = sd\n",
        "* channel_variation = cv\n",
        "* channel_count = cc\n",
        "\n",
        "$$\n",
        "\\begin{align}\n",
        "P_c = \\dfrac{sd}{sp} (\\dfrac{1}{cv})^{cc}\n",
        "\\tag{1}\n",
        "\\end{align}\n",
        "$$\n"
      ],
      "metadata": {
        "id": "QW2YGF727wMr"
      }
    },
    {
      "cell_type": "markdown",
      "source": [
        "n Signal collision fuction\n",
        "\n",
        "$$\n",
        "\\begin{align}\n",
        "P_c(n) = \\sum_{k=2}^n (k-1)P_c + \\sum_{m=2}^n (n-m)P_c^{m}\n",
        "\\tag{2}\n",
        "\\end{align}\n",
        "$$"
      ],
      "metadata": {
        "id": "6UxZydD58502"
      }
    },
    {
      "cell_type": "code",
      "source": [
        "# 2 Signal collision probability\n",
        "\n",
        "signal_period = 5000\n",
        "signal_duration = 2\n",
        "channel_variation = 1.4\n",
        "channel_count = 3\n",
        "\n",
        "Pc = (signal_duration / signal_period) * (1/channel_variation) ** channel_count\n",
        "\n",
        "Pc"
      ],
      "metadata": {
        "colab": {
          "base_uri": "https://localhost:8080/"
        },
        "id": "1tbchVM590_n",
        "outputId": "f7a59d67-bd9b-4a29-9280-861439b0a159"
      },
      "execution_count": 28,
      "outputs": [
        {
          "output_type": "execute_result",
          "data": {
            "text/plain": [
              "0.00014577259475218661"
            ]
          },
          "metadata": {},
          "execution_count": 28
        }
      ]
    },
    {
      "cell_type": "code",
      "source": [
        "from typing import MappingView\n",
        "def collision_fuction(signal_count=100, default_prob = Pc):\n",
        "    term1 = 0.0\n",
        "    term2 = 0.0\n",
        "    for k in range(2,signal_count+1):\n",
        "        term1 = term1 + (k-1)*default_prob\n",
        "\n",
        "    for m in range(2,signal_count+1):\n",
        "        term2 = term2 + (signal_count - m)*default_prob**m\n",
        "\n",
        "    return term1 + term2\n"
      ],
      "metadata": {
        "id": "6Ew0W8YG-HTE"
      },
      "execution_count": 29,
      "outputs": []
    },
    {
      "cell_type": "code",
      "source": [
        "import matplotlib.pyplot as plt\n",
        "\n",
        "def collision_simulation(signal_count=100, default_prob = Pc):\n",
        "    collision = []\n",
        "    collision.append(0.0)\n",
        "    collision.append(0.0)\n",
        "    for i in range(2,signal_count):\n",
        "        collision.append(collision_fuction(signal_count=i))\n",
        "\n",
        "    print(f\"{signal_count}개 운영의 경우, {collision[-1]:.4f}개의 충돌 예측.\")\n",
        "    plt.plot(collision)"
      ],
      "metadata": {
        "id": "j8K6l3Ct-zsW"
      },
      "execution_count": 40,
      "outputs": []
    },
    {
      "cell_type": "code",
      "source": [
        "\n",
        "collision_simulation(signal_count=100)\n"
      ],
      "metadata": {
        "colab": {
          "base_uri": "https://localhost:8080/",
          "height": 283
        },
        "id": "3y-6CCk1_9FP",
        "outputId": "da7e9b93-dd10-40d1-c614-4a4bc5460dda"
      },
      "execution_count": 41,
      "outputs": [
        {
          "output_type": "stream",
          "name": "stdout",
          "text": [
            "100개 운영의 경우, 0.7071개의 충돌 예측.\n"
          ]
        },
        {
          "output_type": "display_data",
          "data": {
            "text/plain": [
              "<Figure size 432x288 with 1 Axes>"
            ],
            "image/png": "[encoded data removed]"
          },
          "metadata": {
            "needs_background": "light"
          }
        }
      ]
    },
    {
      "cell_type": "code",
      "source": [
        "\n",
        "collision_simulation(signal_count=500)"
      ],
      "metadata": {
        "colab": {
          "base_uri": "https://localhost:8080/",
          "height": 283
        },
        "id": "Ov7xoj53COR3",
        "outputId": "0510bb3c-23a5-4174-c555-1594a7d7b484"
      },
      "execution_count": 42,
      "outputs": [
        {
          "output_type": "stream",
          "name": "stdout",
          "text": [
            "500개 운영의 경우, 18.1124개의 충돌 예측.\n"
          ]
        },
        {
          "output_type": "display_data",
          "data": {
            "text/plain": [
              "<Figure size 432x288 with 1 Axes>"
            ],
            "image/png": "[encoded data removed]"
          },
          "metadata": {
            "needs_background": "light"
          }
        }
      ]
    },
    {
      "cell_type": "code",
      "source": [
        "collision_simulation(signal_count=1000)"
      ],
      "metadata": {
        "colab": {
          "base_uri": "https://localhost:8080/",
          "height": 283
        },
        "id": "llPOYvV8CXoC",
        "outputId": "d7500702-8ca3-4501-f088-fd5b2460531c"
      },
      "execution_count": 43,
      "outputs": [
        {
          "output_type": "stream",
          "name": "stdout",
          "text": [
            "1000개 운영의 경우, 72.6678개의 충돌 예측.\n"
          ]
        },
        {
          "output_type": "display_data",
          "data": {
            "text/plain": [
              "<Figure size 432x288 with 1 Axes>"
            ],
            "image/png": "[encoded data removed]"
          },
          "metadata": {
            "needs_background": "light"
          }
        }
      ]
    },
    {
      "cell_type": "code",
      "source": [
        "collision_simulation(signal_count=10000)"
      ],
      "metadata": {
        "colab": {
          "base_uri": "https://localhost:8080/",
          "height": 283
        },
        "id": "SqJtQeoKCcAs",
        "outputId": "8dd92c52-fcd7-473e-d8cf-54cfa3c19b60"
      },
      "execution_count": 44,
      "outputs": [
        {
          "output_type": "stream",
          "name": "stdout",
          "text": [
            "10000개 운영의 경우, 7286.4435개의 충돌 예측.\n"
          ]
        },
        {
          "output_type": "display_data",
          "data": {
            "text/plain": [
              "<Figure size 432x288 with 1 Axes>"
            ],
            "image/png": "[encoded data removed]"
          },
          "metadata": {
            "needs_background": "light"
          }
        }
      ]
    }
  ]
}